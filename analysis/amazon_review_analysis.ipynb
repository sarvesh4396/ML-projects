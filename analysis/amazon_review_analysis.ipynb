{
  "cells": [
    {
      "cell_type": "markdown",
      "metadata": {
        "id": "CfCnRjpvXmhc"
      },
      "source": [
        "Amazon Review Analysis"
      ]
    },
    {
      "cell_type": "code",
      "execution_count": null,
      "metadata": {
        "id": "j_nDhLSQXnao"
      },
      "outputs": [],
      "source": [
        "# Import modules\n",
        "import pandas as pd\n",
        "import numpy as np"
      ]
    }
  ],
  "metadata": {
    "colab": {
      "name": "amazon_review_analysis.ipynb",
      "provenance": []
    },
    "interpreter": {
      "hash": "d35d155a2e19085e5808b9d5c0492faf332c7bb518e9f5c957162287bf2edbb5"
    },
    "kernelspec": {
      "display_name": "Python 3.8.6 64-bit",
      "name": "python3"
    },
    "language_info": {
      "codemirror_mode": {
        "name": "ipython",
        "version": 3
      },
      "file_extension": ".py",
      "mimetype": "text/x-python",
      "name": "python",
      "nbconvert_exporter": "python",
      "pygments_lexer": "ipython3",
      "version": "3.8.6"
    },
    "orig_nbformat": 4
  },
  "nbformat": 4,
  "nbformat_minor": 0
}
